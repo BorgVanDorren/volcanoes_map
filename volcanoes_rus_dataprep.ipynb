{
 "cells": [
  {
   "cell_type": "code",
   "execution_count": 1,
   "metadata": {
    "collapsed": true
   },
   "outputs": [],
   "source": [
    "import pandas as pd"
   ]
  },
  {
   "cell_type": "code",
   "execution_count": 6,
   "metadata": {},
   "outputs": [],
   "source": [
    "vol_df = pd.read_csv ('volcanoes_rus.csv', header = None)"
   ]
  },
  {
   "cell_type": "code",
   "execution_count": 8,
   "metadata": {},
   "outputs": [],
   "source": [
    "vol_df.columns = ['name', 'height', 'coordinates']"
   ]
  },
  {
   "cell_type": "code",
   "execution_count": 21,
   "metadata": {},
   "outputs": [],
   "source": [
    "vol_df.height = pd.to_numeric (vol_df.height, errors = 'coerce')"
   ]
  },
  {
   "cell_type": "code",
   "execution_count": 25,
   "metadata": {},
   "outputs": [],
   "source": [
    "vol_df = vol_df.dropna ()"
   ]
  },
  {
   "cell_type": "code",
   "execution_count": 46,
   "metadata": {},
   "outputs": [],
   "source": [
    "x = vol_df.coordinates.apply(lambda x: x.replace(',', '.')).apply(lambda x: x.split())"
   ]
  },
  {
   "cell_type": "code",
   "execution_count": 64,
   "metadata": {},
   "outputs": [],
   "source": [
    "vol_df['lat'] = [float(i[0][:-2]) for i in x]\n",
    "vol_df['lon'] = [float(i[1][:-2]) for i in x]"
   ]
  },
  {
   "cell_type": "code",
   "execution_count": 74,
   "metadata": {},
   "outputs": [],
   "source": [
    "vol_df = vol_df.drop ('coordinates', 1)"
   ]
  },
  {
   "cell_type": "code",
   "execution_count": 75,
   "metadata": {},
   "outputs": [],
   "source": [
    "vol_df.to_csv ('volcanoes_rus_clear.csv')"
   ]
  },
  {
   "cell_type": "code",
   "execution_count": 77,
   "metadata": {
    "collapsed": true
   },
   "outputs": [],
   "source": [
    "import matplotlib.pyplot as plt\n",
    "%matplotlib inline"
   ]
  },
  {
   "cell_type": "code",
   "execution_count": 79,
   "metadata": {
    "scrolled": true
   },
   "outputs": [
    {
     "data": {
      "text/plain": [
       "(array([  3.,   9.,  12.,  19.,  34.,  21.,  19.,  15.,  10.,   5.,   3.,\n",
       "          1.,   3.,   2.,   0.,   0.,   2.,   0.,   0.,   1.]),\n",
       " array([   36.  ,   315.85,   595.7 ,   875.55,  1155.4 ,  1435.25,\n",
       "         1715.1 ,  1994.95,  2274.8 ,  2554.65,  2834.5 ,  3114.35,\n",
       "         3394.2 ,  3674.05,  3953.9 ,  4233.75,  4513.6 ,  4793.45,\n",
       "         5073.3 ,  5353.15,  5633.  ]),\n",
       " <a list of 20 Patch objects>)"
      ]
     },
     "execution_count": 79,
     "metadata": {},
     "output_type": "execute_result"
    },
    {
     "data": {
      "image/png": "[encoded data removed]",
      "text/plain": [
       "<matplotlib.figure.Figure at 0xfef0b32a58>"
      ]
     },
     "metadata": {},
     "output_type": "display_data"
    }
   ],
   "source": [
    "plt.hist (vol_df['height'], bins = 20)"
   ]
  },
  {
   "cell_type": "code",
   "execution_count": 102,
   "metadata": {},
   "outputs": [
    {
     "data": {
      "text/html": [
       "<div>\n",
       "<style>\n",
       "    .dataframe thead tr:only-child th {\n",
       "        text-align: right;\n",
       "    }\n",
       "\n",
       "    .dataframe thead th {\n",
       "        text-align: left;\n",
       "    }\n",
       "\n",
       "    .dataframe tbody tr th {\n",
       "        vertical-align: top;\n",
       "    }\n",
       "</style>\n",
       "<table border=\"1\" class=\"dataframe\">\n",
       "  <thead>\n",
       "    <tr style=\"text-align: right;\">\n",
       "      <th></th>\n",
       "      <th>name</th>\n",
       "      <th>height</th>\n",
       "      <th>lat</th>\n",
       "      <th>lon</th>\n",
       "    </tr>\n",
       "  </thead>\n",
       "  <tbody>\n",
       "    <tr>\n",
       "      <th>0</th>\n",
       "      <td>Akademia Nauk</td>\n",
       "      <td>1180.0</td>\n",
       "      <td>53.98</td>\n",
       "      <td>159.45</td>\n",
       "    </tr>\n",
       "    <tr>\n",
       "      <th>1</th>\n",
       "      <td>Akhtang</td>\n",
       "      <td>1956.0</td>\n",
       "      <td>55.43</td>\n",
       "      <td>158.65</td>\n",
       "    </tr>\n",
       "    <tr>\n",
       "      <th>2</th>\n",
       "      <td>Alney-Chashakondzha</td>\n",
       "      <td>2598.0</td>\n",
       "      <td>56.70</td>\n",
       "      <td>159.65</td>\n",
       "    </tr>\n",
       "    <tr>\n",
       "      <th>3</th>\n",
       "      <td>Alngey</td>\n",
       "      <td>1853.0</td>\n",
       "      <td>57.70</td>\n",
       "      <td>160.40</td>\n",
       "    </tr>\n",
       "    <tr>\n",
       "      <th>4</th>\n",
       "      <td>Anaun</td>\n",
       "      <td>1828.0</td>\n",
       "      <td>56.32</td>\n",
       "      <td>158.83</td>\n",
       "    </tr>\n",
       "  </tbody>\n",
       "</table>\n",
       "</div>"
      ],
      "text/plain": [
       "                  name  height    lat     lon\n",
       "0        Akademia Nauk  1180.0  53.98  159.45\n",
       "1              Akhtang  1956.0  55.43  158.65\n",
       "2  Alney-Chashakondzha  2598.0  56.70  159.65\n",
       "3               Alngey  1853.0  57.70  160.40\n",
       "4                Anaun  1828.0  56.32  158.83"
      ]
     },
     "execution_count": 102,
     "metadata": {},
     "output_type": "execute_result"
    }
   ],
   "source": [
    "vol_df.head()"
   ]
  },
  {
   "cell_type": "code",
   "execution_count": 118,
   "metadata": {
    "collapsed": true
   },
   "outputs": [],
   "source": [
    "vol_df_a = pd.read_csv ('volcanoes_world_active.csv')"
   ]
  },
  {
   "cell_type": "code",
   "execution_count": 119,
   "metadata": {},
   "outputs": [],
   "source": [
    "vol_df_a = vol_df_a.drop (['Country', 'Type'], 1)"
   ]
  },
  {
   "cell_type": "code",
   "execution_count": 120,
   "metadata": {},
   "outputs": [
    {
     "data": {
      "text/plain": [
       "Index(['Volcano Name', 'Latitude (dd)', 'Longitude (dd)', 'Elevation (m)'], dtype='object')"
      ]
     },
     "execution_count": 120,
     "metadata": {},
     "output_type": "execute_result"
    }
   ],
   "source": [
    "vol_df_a.columns"
   ]
  },
  {
   "cell_type": "code",
   "execution_count": 121,
   "metadata": {
    "collapsed": true
   },
   "outputs": [],
   "source": [
    "vol_df_a.columns = ['name', 'lat', 'lon', 'height']"
   ]
  },
  {
   "cell_type": "code",
   "execution_count": 127,
   "metadata": {},
   "outputs": [],
   "source": [
    "vol_df_a = vol_df_a.dropna()"
   ]
  },
  {
   "cell_type": "code",
   "execution_count": 128,
   "metadata": {},
   "outputs": [
    {
     "name": "stdout",
     "output_type": "stream",
     "text": [
      "<class 'pandas.core.frame.DataFrame'>\n",
      "Int64Index: 370 entries, 0 to 430\n",
      "Data columns (total 4 columns):\n",
      "name      370 non-null object\n",
      "lat       370 non-null float64\n",
      "lon       370 non-null float64\n",
      "height    370 non-null float64\n",
      "dtypes: float64(3), object(1)\n",
      "memory usage: 14.5+ KB\n"
     ]
    }
   ],
   "source": [
    "vol_df_a.info()"
   ]
  },
  {
   "cell_type": "code",
   "execution_count": 124,
   "metadata": {},
   "outputs": [],
   "source": [
    "vol_df_a['lat'] = pd.to_numeric(vol_df_a['lat'], errors = 'coerse')"
   ]
  },
  {
   "cell_type": "code",
   "execution_count": 125,
   "metadata": {},
   "outputs": [],
   "source": [
    "vol_df_a['lon'] = pd.to_numeric(vol_df_a['lon'], errors = 'coerse')"
   ]
  },
  {
   "cell_type": "code",
   "execution_count": null,
   "metadata": {
    "collapsed": true
   },
   "outputs": [],
   "source": []
  }
 ],
 "metadata": {
  "kernelspec": {
   "display_name": "Python 3",
   "language": "python",
   "name": "python3"
  },
  "language_info": {
   "codemirror_mode": {
    "name": "ipython",
    "version": 3
   },
   "file_extension": ".py",
   "mimetype": "text/x-python",
   "name": "python",
   "nbconvert_exporter": "python",
   "pygments_lexer": "ipython3",
   "version": "3.6.1"
  }
 },
 "nbformat": 4,
 "nbformat_minor": 2
}
